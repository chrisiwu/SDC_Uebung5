{
 "cells": [
  {
   "cell_type": "markdown",
   "id": "806aecd0-4d8b-4512-a535-c6ef7eafe0c7",
   "metadata": {},
   "source": [
    "# Build Docker-File"
   ]
  },
  {
   "cell_type": "code",
   "execution_count": null,
   "id": "50dfae69-cd9c-4068-bc72-86f3c9b90734",
   "metadata": {
    "tags": []
   },
   "outputs": [],
   "source": [
    "!docker build -t 3-streamlit-dashboard ."
   ]
  },
  {
   "cell_type": "markdown",
   "id": "ecc9575c-f1db-450e-a26d-0519d7b729c6",
   "metadata": {},
   "source": [
    "# Run Docker-File"
   ]
  },
  {
   "cell_type": "code",
   "execution_count": null,
   "id": "fee579a6-bee9-436a-9881-589875477216",
   "metadata": {},
   "outputs": [],
   "source": [
    "!docker run -d -p 8501:8501 --name dashboard 3-streamlit-dashboard"
   ]
  },
  {
   "cell_type": "markdown",
   "id": "5453eb44-315a-4b43-a0ce-45bdc960f9bc",
   "metadata": {},
   "source": [
    "# Package Docker-Image and Distribute it"
   ]
  },
  {
   "cell_type": "code",
   "execution_count": null,
   "id": "52e73895-6c95-45c3-bee4-cc3d4cf3e498",
   "metadata": {},
   "outputs": [],
   "source": [
    "!docker tag 3-streamlit-dashboard chrisiwu/3-streamlit-dashboard:v1.0"
   ]
  },
  {
   "cell_type": "code",
   "execution_count": null,
   "id": "1176668d-838c-4608-969a-21cedad90925",
   "metadata": {
    "tags": []
   },
   "outputs": [],
   "source": [
    "!docker push chrisiwu/3-streamlit-dashboard:v1.0"
   ]
  }
 ],
 "metadata": {
  "kernelspec": {
   "display_name": "Python 3 (ipykernel)",
   "language": "python",
   "name": "python3"
  },
  "language_info": {
   "codemirror_mode": {
    "name": "ipython",
    "version": 3
   },
   "file_extension": ".py",
   "mimetype": "text/x-python",
   "name": "python",
   "nbconvert_exporter": "python",
   "pygments_lexer": "ipython3",
   "version": "3.8.8"
  }
 },
 "nbformat": 4,
 "nbformat_minor": 5
}
