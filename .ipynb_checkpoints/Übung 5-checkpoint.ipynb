{
 "cells": [
  {
   "cell_type": "markdown",
   "metadata": {
    "id": "SICC5Y4mfOZ8"
   },
   "source": [
    "# Erstellung GitHub Action\n",
    "\n",
    "For this exercise we ask you to **automate the deployment** of your ML-application by **using GitHub-actions**. Implement a **GitHub-workflow** that:\n",
    "- triggers on every push\n",
    "- packages a Docker-image\n",
    "- pushes the Docker-image to DockerHub\n",
    "- deploys your application to your Azure-WebApp \n",
    "\n",
    "You can build and push your image either via a **Docker-compose** or **Docker-file**. The required steps are documented in the slides of our last class. Here you can find the workflow definition we've created during our online class: https://github.com/codingmoh/fhtw-hello-world/blob/main/.github/workflows/main-build-22.yml\n",
    "\n",
    "## Submission\n",
    "\n",
    "Please submit a **link to your workflow-definition**. Have fun implementing your first GitHub-Action!"
   ]
  }
 ],
 "metadata": {
  "colab": {
   "authorship_tag": "ABX9TyNDyTtac3Tk6nvydnW8HxNH",
   "collapsed_sections": [],
   "provenance": []
  },
  "kernelspec": {
   "display_name": "Python 3 (ipykernel)",
   "language": "python",
   "name": "python3"
  },
  "language_info": {
   "codemirror_mode": {
    "name": "ipython",
    "version": 3
   },
   "file_extension": ".py",
   "mimetype": "text/x-python",
   "name": "python",
   "nbconvert_exporter": "python",
   "pygments_lexer": "ipython3",
   "version": "3.8.8"
  }
 },
 "nbformat": 4,
 "nbformat_minor": 4
}
